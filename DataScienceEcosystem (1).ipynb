{
 "cells": [
  {
   "cell_type": "markdown",
   "id": "05931bac",
   "metadata": {},
   "source": [
    "<h1>Data Science Tools and Ecosystem</h1>"
   ]
  },
  {
   "cell_type": "markdown",
   "id": "5f4d8928",
   "metadata": {},
   "source": [
    "Hello! My name is Krisztián and now I'm completing my grade assignment. :)\n",
    "- In this notebook, Data Science Tools and Ecosystem are summarized.\n"
   ]
  },
  {
   "cell_type": "markdown",
   "id": "d6e5cc4b",
   "metadata": {},
   "source": [
    "__Objectives:__\n",
    "\n",
    "- Learn Markdown and Jupyter Notebook basics\n",
    "- Understand basic arithmetic operations in Python\n",
    "- Data Science Languages\n",
    "- Data Science Libraries\n"
   ]
  },
  {
   "cell_type": "markdown",
   "id": "39c75ecf",
   "metadata": {},
   "source": [
    "Data Science Languages:\n",
    "1. Python,\n",
    "2. R,\n",
    "3. SQL"
   ]
  },
  {
   "cell_type": "markdown",
   "id": "85d59738",
   "metadata": {},
   "source": [
    "Data Science Libraries:\n",
    "\n",
    "1. Pandas,\n",
    "2. Numpy,\n",
    "3. Scikit-learn"
   ]
  },
  {
   "cell_type": "markdown",
   "id": "680068d1",
   "metadata": {},
   "source": [
    "<div align=\"left\">\n",
    "\n",
    "| Data Science Tools |\n",
    "|--------------------|\n",
    "| Jupyter Notebook   |\n",
    "| RStudio            |\n",
    "| Visual Studio Code |\n",
    "\n",
    "</div>\n"
   ]
  },
  {
   "cell_type": "markdown",
   "id": "a8f5aa76",
   "metadata": {},
   "source": [
    "<h3>Below are a few examples of evaluating arithmetic expressions in Python.</h3>\n"
   ]
  },
  {
   "cell_type": "markdown",
   "id": "71ec638e",
   "metadata": {},
   "source": [
    "\n",
    "result_addition = 5 + 3 |\n",
    "print(\"Addition:\", result_addition)\n",
    "\n",
    "\n",
    "result_subtraction = 7 - 2 |\n",
    "print(\"Subtraction:\", result_subtraction)\n",
    "\n",
    "\n",
    "result_multiplication = 4 * 6 |\n",
    "print(\"Multiplication:\", result_multiplication)\n",
    "\n",
    "\n",
    "result_division = 10 / 2 |\n",
    "print(\"Division:\", result_division)\n",
    "\n",
    "\n",
    "result_exponentiation = 2 ** 3 |\n",
    "print(\"Exponentiation:\", result_exponentiation)\n"
   ]
  },
  {
   "cell_type": "code",
   "execution_count": 6,
   "id": "9f2db340",
   "metadata": {},
   "outputs": [],
   "source": [
    "#This a simple arithmetic expression to mutiply then add integers"
   ]
  },
  {
   "cell_type": "code",
   "execution_count": 4,
   "id": "1b395e18",
   "metadata": {},
   "outputs": [
    {
     "name": "stdout",
     "output_type": "stream",
     "text": [
      "17\n"
     ]
    }
   ],
   "source": [
    "a = 3\n",
    "b = 4\n",
    "c = 5\n",
    "result = (a*b)+c\n",
    "print(result)"
   ]
  },
  {
   "cell_type": "code",
   "execution_count": null,
   "id": "9757f61b",
   "metadata": {},
   "outputs": [],
   "source": [
    "#This will convert 200 minutes to hours by diving by 60"
   ]
  },
  {
   "cell_type": "code",
   "execution_count": 5,
   "id": "18afb782",
   "metadata": {},
   "outputs": [
    {
     "name": "stdout",
     "output_type": "stream",
     "text": [
      "3.3333333333333335\n"
     ]
    }
   ],
   "source": [
    "minutes = 200\n",
    "hours = minutes/60\n",
    "print(hours)"
   ]
  },
  {
   "cell_type": "markdown",
   "id": "e02b5feb",
   "metadata": {},
   "source": [
    "<h2>Author</h2>\n",
    "Krisztián Huszár"
   ]
  }
 ],
 "metadata": {
  "celltoolbar": "Raw Cell Format",
  "kernelspec": {
   "display_name": "Python 3 (ipykernel)",
   "language": "python",
   "name": "python3"
  },
  "language_info": {
   "codemirror_mode": {
    "name": "ipython",
    "version": 3
   },
   "file_extension": ".py",
   "mimetype": "text/x-python",
   "name": "python",
   "nbconvert_exporter": "python",
   "pygments_lexer": "ipython3",
   "version": "3.9.7"
  }
 },
 "nbformat": 4,
 "nbformat_minor": 5
}
