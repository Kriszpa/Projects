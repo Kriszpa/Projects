{
  "metadata": {
    "kernelspec": {
      "name": "python",
      "display_name": "Python (Pyodide)",
      "language": "python"
    },
    "language_info": {
      "codemirror_mode": {
        "name": "python",
        "version": 3
      },
      "file_extension": ".py",
      "mimetype": "text/x-python",
      "name": "python",
      "nbconvert_exporter": "python",
      "pygments_lexer": "ipython3",
      "version": "3.8"
    }
  },
  "nbformat_minor": 4,
  "nbformat": 4,
  "cells": [
    {
      "cell_type": "code",
      "source": "import pandas as pd\nimport numpy as np",
      "metadata": {
        "trusted": true
      },
      "outputs": [],
      "execution_count": 1
    },
    {
      "cell_type": "code",
      "source": "from pyodide.http import pyfetch",
      "metadata": {
        "trusted": true
      },
      "outputs": [],
      "execution_count": 18
    },
    {
      "cell_type": "code",
      "source": "async def download(url, filename):\n    response = await pyfetch(url)\n    if response.status == 200:\n        with open(filename, \"wb\") as f:\n            f.write(await response.bytes())",
      "metadata": {
        "trusted": true
      },
      "outputs": [],
      "execution_count": 21
    },
    {
      "cell_type": "code",
      "source": "file_path = \"https://cf-courses-data.s3.us.cloud-object-storage.appdomain.cloud/IBMDeveloperSkillsNetwork-DA0101EN-Coursera/laptop_pricing_dataset_base.csv\"",
      "metadata": {
        "trusted": true
      },
      "outputs": [],
      "execution_count": 24
    },
    {
      "cell_type": "code",
      "source": "await download(file_path, \"laptops.csv\")\nfile_name=\"laptops.csv\"",
      "metadata": {
        "trusted": true
      },
      "outputs": [],
      "execution_count": 26
    },
    {
      "cell_type": "code",
      "source": "df = pd.read_csv(file_name)",
      "metadata": {
        "trusted": true
      },
      "outputs": [],
      "execution_count": 49
    },
    {
      "cell_type": "code",
      "source": "print(df.head())",
      "metadata": {
        "trusted": true
      },
      "outputs": [
        {
          "name": "stdout",
          "text": "   Acer  4  IPS Panel  2  1  5   35.56  1.6  8  256 1.6.1   978\n0  Dell  3    Full HD  1  1  3  39.624  2.0  4  256   2.2   634\n1  Dell  3    Full HD  1  1  7  39.624  2.7  8  256   2.2   946\n2  Dell  4  IPS Panel  2  1  5  33.782  1.6  8  128  1.22  1244\n3    HP  4    Full HD  2  1  7  39.624  1.8  8  256  1.91   837\n4  Dell  3    Full HD  1  1  5  39.624  1.6  8  256   2.2  1016\n",
          "output_type": "stream"
        }
      ],
      "execution_count": 50
    },
    {
      "cell_type": "code",
      "source": "headers = [\"Manufacturer\", \"Category\", \"Screen\", \"GPU\", \"OS\", \"CPU_core\", \"Screen_Size_inch\", \"CPU_frequency\", \"RAM_GB\", \"Storage_GB_SSD\", \"Weight_kg\", \"Price\"]\ndf.columns = headers\nprint(df.head(10))",
      "metadata": {
        "trusted": true
      },
      "outputs": [
        {
          "name": "stdout",
          "text": "  Manufacturer  Category     Screen  GPU  OS  CPU_core Screen_Size_inch  \\\n0         Dell         3    Full HD    1   1         3           39.624   \n1         Dell         3    Full HD    1   1         7           39.624   \n2         Dell         4  IPS Panel    2   1         5           33.782   \n3           HP         4    Full HD    2   1         7           39.624   \n4         Dell         3    Full HD    1   1         5           39.624   \n5           HP         3    Full HD    3   1         5           39.624   \n6         Acer         3  IPS Panel    2   1         5             38.1   \n7         Dell         3    Full HD    1   1         5           39.624   \n8         Acer         3  IPS Panel    3   1         7             38.1   \n9         Dell         3    Full HD    1   1         7           39.624   \n\n   CPU_frequency  RAM_GB  Storage_GB_SSD Weight_kg  Price  \n0            2.0       4             256       2.2    634  \n1            2.7       8             256       2.2    946  \n2            1.6       8             128      1.22   1244  \n3            1.8       8             256      1.91    837  \n4            1.6       8             256       2.2   1016  \n5            1.6       8             256       2.1   1117  \n6            1.6       4             256       2.2    866  \n7            2.5       4             256       2.3    812  \n8            1.8       8             256       2.2   1068  \n9            1.8       8             256      2.13    975  \n",
          "output_type": "stream"
        }
      ],
      "execution_count": 51
    },
    {
      "cell_type": "code",
      "source": "df1=df.replace('?',np.NaN)",
      "metadata": {
        "trusted": true
      },
      "outputs": [],
      "execution_count": 52
    },
    {
      "cell_type": "code",
      "source": "print(df.dtypes)",
      "metadata": {
        "trusted": true
      },
      "outputs": [
        {
          "name": "stdout",
          "text": "Manufacturer         object\nCategory              int64\nScreen               object\nGPU                   int64\nOS                    int64\nCPU_core              int64\nScreen_Size_inch     object\nCPU_frequency       float64\nRAM_GB                int64\nStorage_GB_SSD        int64\nWeight_kg            object\nPrice                 int64\ndtype: object\n",
          "output_type": "stream"
        }
      ],
      "execution_count": 54
    },
    {
      "cell_type": "code",
      "source": "print(df.describe(include='all'))",
      "metadata": {
        "trusted": true
      },
      "outputs": [
        {
          "name": "stdout",
          "text": "       Manufacturer    Category   Screen         GPU          OS    CPU_core  \\\ncount           237  237.000000      237  237.000000  237.000000  237.000000   \nunique           11         NaN        2         NaN         NaN         NaN   \ntop            Dell         NaN  Full HD         NaN         NaN         NaN   \nfreq             71         NaN      161         NaN         NaN         NaN   \nmean            NaN    3.202532      NaN    2.151899    1.059072    5.632911   \nstd             NaN    0.776450      NaN    0.639556    0.236258    1.243736   \nmin             NaN    1.000000      NaN    1.000000    1.000000    3.000000   \n25%             NaN    3.000000      NaN    2.000000    1.000000    5.000000   \n50%             NaN    3.000000      NaN    2.000000    1.000000    5.000000   \n75%             NaN    4.000000      NaN    3.000000    1.000000    7.000000   \nmax             NaN    5.000000      NaN    3.000000    2.000000    7.000000   \n\n       Screen_Size_inch  CPU_frequency      RAM_GB  Storage_GB_SSD Weight_kg  \\\ncount               237     237.000000  237.000000      237.000000       237   \nunique               10            NaN         NaN             NaN        78   \ntop              39.624            NaN         NaN             NaN       2.2   \nfreq                 89            NaN         NaN             NaN        21   \nmean                NaN       2.363291    7.881857      245.738397       NaN   \nstd                 NaN       0.409271    2.487845       34.832516       NaN   \nmin                 NaN       1.200000    4.000000      128.000000       NaN   \n25%                 NaN       2.000000    8.000000      256.000000       NaN   \n50%                 NaN       2.500000    8.000000      256.000000       NaN   \n75%                 NaN       2.700000    8.000000      256.000000       NaN   \nmax                 NaN       2.900000   16.000000      256.000000       NaN   \n\n              Price  \ncount    237.000000  \nunique          NaN  \ntop             NaN  \nfreq            NaN  \nmean    1464.388186  \nstd      574.956374  \nmin      527.000000  \n25%     1068.000000  \n50%     1333.000000  \n75%     1777.000000  \nmax     3810.000000  \n",
          "output_type": "stream"
        }
      ],
      "execution_count": 57
    },
    {
      "cell_type": "code",
      "source": "print(df.info())",
      "metadata": {
        "trusted": true
      },
      "outputs": [
        {
          "name": "stdout",
          "text": "<class 'pandas.core.frame.DataFrame'>\nRangeIndex: 237 entries, 0 to 236\nData columns (total 12 columns):\n #   Column            Non-Null Count  Dtype  \n---  ------            --------------  -----  \n 0   Manufacturer      237 non-null    object \n 1   Category          237 non-null    int64  \n 2   Screen            237 non-null    object \n 3   GPU               237 non-null    int64  \n 4   OS                237 non-null    int64  \n 5   CPU_core          237 non-null    int64  \n 6   Screen_Size_inch  237 non-null    object \n 7   CPU_frequency     237 non-null    float64\n 8   RAM_GB            237 non-null    int64  \n 9   Storage_GB_SSD    237 non-null    int64  \n 10  Weight_kg         237 non-null    object \n 11  Price             237 non-null    int64  \ndtypes: float64(1), int64(7), object(4)\nmemory usage: 18.6+ KB\nNone\n",
          "output_type": "stream"
        }
      ],
      "execution_count": 59
    }
  ]
}